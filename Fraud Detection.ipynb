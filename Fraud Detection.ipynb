{
 "cells": [
  {
   "cell_type": "markdown",
   "metadata": {},
   "source": [
    "### Content:\n",
    "\n",
    "1. [Importing Libraries](#section1)\n",
    "1. [Reading Data](#section2)\n",
    "1. [Exploratory Data Analysis](#section3)\n",
    "1. [Feature Engineering](#section4)\n",
    "1. [Splitting to Avoid Data Leakage](#section5)\n",
    "1. [Evaluating Valid Transactions](#section6)\n",
    "1. [Evaluating Fraud Transactions](#section7)\n",
    "1. [Training Data Analysis](#section8)\n",
    "1. [Model Creation](#section9)\n",
    "1. [One Hot Encoding](#section10)\n",
    "1. [Frequency Encoding](#section11)\n",
    "1. [Applying SMOTE ](#section12)\n",
    "1. [Hyperparameter Tuning for Logistic Regression](#section13)\n",
    "1. [Hyperparameter Tuning for Random Forest](#section14)\n",
    "1. [Optimal Threshold Selection](#section15)\n",
    "1. [Model Evaluation](#section16)\n",
    "1. [Precision Recall Curve](#section17)\n",
    "1. [Confusion Matrix ](#section18)\n",
    "1. [Saving the Model](#section19)\n",
    "1. [Unexplored Thoughts](#section20)"
   ]
  },
  {
   "cell_type": "code",
   "execution_count": 5,
   "metadata": {},
   "outputs": [],
   "source": [
    "# !pip install category_encoders\n",
    "# !pip install imblearn"
   ]
  },
  {
   "cell_type": "markdown",
   "metadata": {},
   "source": [
    "### Importing Libraries\n",
    "<a id='section1'></a>"
   ]
  },
  {
   "cell_type": "code",
   "execution_count": 1,
   "metadata": {},
   "outputs": [],
   "source": [
    "import pandas as pd\n",
    "import numpy as np\n",
    "import seaborn as sns\n",
    "import matplotlib.pyplot as plt\n",
    "import category_encoders as ce\n",
    "import math\n",
    "import collections \n",
    "import pickle\n",
    "\n",
    "from sklearn import preprocessing\n",
    "from sklearn.model_selection import train_test_split\n",
    "from sklearn.metrics import f1_score\n",
    "from sklearn.preprocessing import StandardScaler\n",
    "from sklearn.ensemble import RandomForestClassifier\n",
    "from sklearn.linear_model import LogisticRegression\n",
    "from sklearn.model_selection import GridSearchCV\n",
    "from imblearn.over_sampling import SMOTE\n",
    "from sklearn.pipeline import make_pipeline\n",
    "from imblearn.pipeline import Pipeline \n",
    "from sklearn.model_selection import RandomizedSearchCV\n",
    "from mlxtend.plotting import plot_confusion_matrix\n",
    "from sklearn.metrics import roc_curve\n",
    "from sklearn.metrics import precision_recall_curve\n",
    "from sklearn.metrics import auc\n",
    "from sklearn.metrics import f1_score,precision_score,recall_score,average_precision_score\n",
    "\n",
    "sns.set(style=\"ticks\", color_codes=True)\n",
    "%matplotlib inline  "
   ]
  },
  {
   "cell_type": "markdown",
   "metadata": {},
   "source": [
    "### Reading data\n",
    "<a id='section2'></a>"
   ]
  },
  {
   "cell_type": "code",
   "execution_count": 2,
   "metadata": {},
   "outputs": [],
   "source": [
    "trx_data=pd.read_csv(\"data\\\\transactions.csv\",parse_dates = ['CREATED_DATE'])\n",
    "frauds=pd.read_csv(\"data\\\\fraudsters.csv\")\n",
    "users_data=pd.read_csv(\"data\\\\users.csv\",parse_dates = ['CREATED_DATE','BIRTH_DATE'])"
   ]
  },
  {
   "cell_type": "code",
   "execution_count": 3,
   "metadata": {},
   "outputs": [
    {
     "data": {
      "text/html": [
       "<div>\n",
       "<style scoped>\n",
       "    .dataframe tbody tr th:only-of-type {\n",
       "        vertical-align: middle;\n",
       "    }\n",
       "\n",
       "    .dataframe tbody tr th {\n",
       "        vertical-align: top;\n",
       "    }\n",
       "\n",
       "    .dataframe thead th {\n",
       "        text-align: right;\n",
       "    }\n",
       "</style>\n",
       "<table border=\"1\" class=\"dataframe\">\n",
       "  <thead>\n",
       "    <tr style=\"text-align: right;\">\n",
       "      <th></th>\n",
       "      <th>ID</th>\n",
       "      <th>USER_ID</th>\n",
       "      <th>CREATED_DATE</th>\n",
       "      <th>TYPE</th>\n",
       "      <th>STATE</th>\n",
       "      <th>AMOUNT_GBP</th>\n",
       "      <th>CURRENCY</th>\n",
       "    </tr>\n",
       "  </thead>\n",
       "  <tbody>\n",
       "    <tr>\n",
       "      <td>0</td>\n",
       "      <td>9499c9c9-c9a9-410f-820d-c6e92fed27fb</td>\n",
       "      <td>00001f33-1d47-47a3-8955-e719172e788b</td>\n",
       "      <td>2019-04-11 20:53:54.700</td>\n",
       "      <td>TOPUP</td>\n",
       "      <td>REVERTED</td>\n",
       "      <td>0.01</td>\n",
       "      <td>EUR</td>\n",
       "    </tr>\n",
       "    <tr>\n",
       "      <td>1</td>\n",
       "      <td>b310db00-490f-4185-b247-c59f5694dd67</td>\n",
       "      <td>00001f33-1d47-47a3-8955-e719172e788b</td>\n",
       "      <td>2019-04-11 20:54:02.156</td>\n",
       "      <td>TOPUP</td>\n",
       "      <td>COMPLETED</td>\n",
       "      <td>8.92</td>\n",
       "      <td>EUR</td>\n",
       "    </tr>\n",
       "    <tr>\n",
       "      <td>2</td>\n",
       "      <td>e6021128-f4c1-4164-b3de-697e66ad613c</td>\n",
       "      <td>00001f33-1d47-47a3-8955-e719172e788b</td>\n",
       "      <td>2019-04-11 20:55:20.996</td>\n",
       "      <td>FEE</td>\n",
       "      <td>COMPLETED</td>\n",
       "      <td>5.34</td>\n",
       "      <td>EUR</td>\n",
       "    </tr>\n",
       "  </tbody>\n",
       "</table>\n",
       "</div>"
      ],
      "text/plain": [
       "                                     ID                               USER_ID  \\\n",
       "0  9499c9c9-c9a9-410f-820d-c6e92fed27fb  00001f33-1d47-47a3-8955-e719172e788b   \n",
       "1  b310db00-490f-4185-b247-c59f5694dd67  00001f33-1d47-47a3-8955-e719172e788b   \n",
       "2  e6021128-f4c1-4164-b3de-697e66ad613c  00001f33-1d47-47a3-8955-e719172e788b   \n",
       "\n",
       "             CREATED_DATE   TYPE      STATE  AMOUNT_GBP CURRENCY  \n",
       "0 2019-04-11 20:53:54.700  TOPUP   REVERTED        0.01      EUR  \n",
       "1 2019-04-11 20:54:02.156  TOPUP  COMPLETED        8.92      EUR  \n",
       "2 2019-04-11 20:55:20.996    FEE  COMPLETED        5.34      EUR  "
      ]
     },
     "execution_count": 3,
     "metadata": {},
     "output_type": "execute_result"
    }
   ],
   "source": [
    "trx_data.head(3)"
   ]
  },
  {
   "cell_type": "code",
   "execution_count": 4,
   "metadata": {},
   "outputs": [
    {
     "data": {
      "text/html": [
       "<div>\n",
       "<style scoped>\n",
       "    .dataframe tbody tr th:only-of-type {\n",
       "        vertical-align: middle;\n",
       "    }\n",
       "\n",
       "    .dataframe tbody tr th {\n",
       "        vertical-align: top;\n",
       "    }\n",
       "\n",
       "    .dataframe thead th {\n",
       "        text-align: right;\n",
       "    }\n",
       "</style>\n",
       "<table border=\"1\" class=\"dataframe\">\n",
       "  <thead>\n",
       "    <tr style=\"text-align: right;\">\n",
       "      <th></th>\n",
       "      <th>USER_ID</th>\n",
       "    </tr>\n",
       "  </thead>\n",
       "  <tbody>\n",
       "    <tr>\n",
       "      <td>0</td>\n",
       "      <td>005ab95c-e876-4bf1-a5ea-bc3decfcacfc</td>\n",
       "    </tr>\n",
       "    <tr>\n",
       "      <td>1</td>\n",
       "      <td>00645cf3-2589-48ff-b7df-c391eb4ce2c2</td>\n",
       "    </tr>\n",
       "    <tr>\n",
       "      <td>2</td>\n",
       "      <td>00e26a77-0f19-421c-b154-f36cbd04638f</td>\n",
       "    </tr>\n",
       "  </tbody>\n",
       "</table>\n",
       "</div>"
      ],
      "text/plain": [
       "                                USER_ID\n",
       "0  005ab95c-e876-4bf1-a5ea-bc3decfcacfc\n",
       "1  00645cf3-2589-48ff-b7df-c391eb4ce2c2\n",
       "2  00e26a77-0f19-421c-b154-f36cbd04638f"
      ]
     },
     "execution_count": 4,
     "metadata": {},
     "output_type": "execute_result"
    }
   ],
   "source": [
    "frauds.head(3)"
   ]
  },
  {
   "cell_type": "code",
   "execution_count": 5,
   "metadata": {
    "scrolled": true
   },
   "outputs": [
    {
     "data": {
      "text/html": [
       "<div>\n",
       "<style scoped>\n",
       "    .dataframe tbody tr th:only-of-type {\n",
       "        vertical-align: middle;\n",
       "    }\n",
       "\n",
       "    .dataframe tbody tr th {\n",
       "        vertical-align: top;\n",
       "    }\n",
       "\n",
       "    .dataframe thead th {\n",
       "        text-align: right;\n",
       "    }\n",
       "</style>\n",
       "<table border=\"1\" class=\"dataframe\">\n",
       "  <thead>\n",
       "    <tr style=\"text-align: right;\">\n",
       "      <th></th>\n",
       "      <th>ID</th>\n",
       "      <th>CREATED_DATE</th>\n",
       "      <th>COUNTRY</th>\n",
       "      <th>BIRTH_DATE</th>\n",
       "    </tr>\n",
       "  </thead>\n",
       "  <tbody>\n",
       "    <tr>\n",
       "      <td>0</td>\n",
       "      <td>00001f33-1d47-47a3-8955-e719172e788b</td>\n",
       "      <td>2019-04-11 20:49:42.623</td>\n",
       "      <td>IE</td>\n",
       "      <td>1994-08-17</td>\n",
       "    </tr>\n",
       "    <tr>\n",
       "      <td>1</td>\n",
       "      <td>00005048-a584-4b94-a0fc-481c7bc916f1</td>\n",
       "      <td>2019-04-08 08:56:33.595</td>\n",
       "      <td>GB</td>\n",
       "      <td>1967-09-08</td>\n",
       "    </tr>\n",
       "    <tr>\n",
       "      <td>2</td>\n",
       "      <td>0000bc95-82c9-4c4b-a422-e807da1e9443</td>\n",
       "      <td>2019-04-04 10:00:52.468</td>\n",
       "      <td>FR</td>\n",
       "      <td>1992-08-11</td>\n",
       "    </tr>\n",
       "  </tbody>\n",
       "</table>\n",
       "</div>"
      ],
      "text/plain": [
       "                                     ID            CREATED_DATE COUNTRY  \\\n",
       "0  00001f33-1d47-47a3-8955-e719172e788b 2019-04-11 20:49:42.623      IE   \n",
       "1  00005048-a584-4b94-a0fc-481c7bc916f1 2019-04-08 08:56:33.595      GB   \n",
       "2  0000bc95-82c9-4c4b-a422-e807da1e9443 2019-04-04 10:00:52.468      FR   \n",
       "\n",
       "  BIRTH_DATE  \n",
       "0 1994-08-17  \n",
       "1 1967-09-08  \n",
       "2 1992-08-11  "
      ]
     },
     "execution_count": 5,
     "metadata": {},
     "output_type": "execute_result"
    }
   ],
   "source": [
    "users_data.head(3)"
   ]
  },
  {
   "cell_type": "code",
   "execution_count": 6,
   "metadata": {},
   "outputs": [
    {
     "data": {
      "text/html": [
       "<div>\n",
       "<style scoped>\n",
       "    .dataframe tbody tr th:only-of-type {\n",
       "        vertical-align: middle;\n",
       "    }\n",
       "\n",
       "    .dataframe tbody tr th {\n",
       "        vertical-align: top;\n",
       "    }\n",
       "\n",
       "    .dataframe thead th {\n",
       "        text-align: right;\n",
       "    }\n",
       "</style>\n",
       "<table border=\"1\" class=\"dataframe\">\n",
       "  <thead>\n",
       "    <tr style=\"text-align: right;\">\n",
       "      <th></th>\n",
       "      <th>USER_ID</th>\n",
       "    </tr>\n",
       "  </thead>\n",
       "  <tbody>\n",
       "    <tr>\n",
       "      <td>count</td>\n",
       "      <td>757</td>\n",
       "    </tr>\n",
       "    <tr>\n",
       "      <td>unique</td>\n",
       "      <td>757</td>\n",
       "    </tr>\n",
       "    <tr>\n",
       "      <td>top</td>\n",
       "      <td>91a42466-3353-4840-9eae-a8e8c019f2e3</td>\n",
       "    </tr>\n",
       "    <tr>\n",
       "      <td>freq</td>\n",
       "      <td>1</td>\n",
       "    </tr>\n",
       "  </tbody>\n",
       "</table>\n",
       "</div>"
      ],
      "text/plain": [
       "                                     USER_ID\n",
       "count                                    757\n",
       "unique                                   757\n",
       "top     91a42466-3353-4840-9eae-a8e8c019f2e3\n",
       "freq                                       1"
      ]
     },
     "execution_count": 6,
     "metadata": {},
     "output_type": "execute_result"
    }
   ],
   "source": [
    "frauds.describe()"
   ]
  },
  {
   "cell_type": "code",
   "execution_count": 7,
   "metadata": {},
   "outputs": [
    {
     "name": "stdout",
     "output_type": "stream",
     "text": [
      "<class 'pandas.core.frame.DataFrame'>\n",
      "RangeIndex: 200250 entries, 0 to 200249\n",
      "Data columns (total 4 columns):\n",
      "ID              200250 non-null object\n",
      "CREATED_DATE    200250 non-null datetime64[ns]\n",
      "COUNTRY         200250 non-null object\n",
      "BIRTH_DATE      200250 non-null datetime64[ns]\n",
      "dtypes: datetime64[ns](2), object(2)\n",
      "memory usage: 6.1+ MB\n"
     ]
    }
   ],
   "source": [
    "users_data.info()"
   ]
  },
  {
   "cell_type": "code",
   "execution_count": 8,
   "metadata": {},
   "outputs": [
    {
     "name": "stdout",
     "output_type": "stream",
     "text": [
      "<class 'pandas.core.frame.DataFrame'>\n",
      "RangeIndex: 1068361 entries, 0 to 1068360\n",
      "Data columns (total 7 columns):\n",
      "ID              1068361 non-null object\n",
      "USER_ID         1068361 non-null object\n",
      "CREATED_DATE    1068361 non-null datetime64[ns]\n",
      "TYPE            1068361 non-null object\n",
      "STATE           1068361 non-null object\n",
      "AMOUNT_GBP      1068361 non-null float64\n",
      "CURRENCY        1068361 non-null object\n",
      "dtypes: datetime64[ns](1), float64(1), object(5)\n",
      "memory usage: 57.1+ MB\n"
     ]
    }
   ],
   "source": [
    "trx_data.info()"
   ]
  },
  {
   "cell_type": "code",
   "execution_count": 9,
   "metadata": {},
   "outputs": [
    {
     "data": {
      "text/html": [
       "<div>\n",
       "<style scoped>\n",
       "    .dataframe tbody tr th:only-of-type {\n",
       "        vertical-align: middle;\n",
       "    }\n",
       "\n",
       "    .dataframe tbody tr th {\n",
       "        vertical-align: top;\n",
       "    }\n",
       "\n",
       "    .dataframe thead th {\n",
       "        text-align: right;\n",
       "    }\n",
       "</style>\n",
       "<table border=\"1\" class=\"dataframe\">\n",
       "  <thead>\n",
       "    <tr style=\"text-align: right;\">\n",
       "      <th></th>\n",
       "      <th>AMOUNT_GBP</th>\n",
       "    </tr>\n",
       "  </thead>\n",
       "  <tbody>\n",
       "    <tr>\n",
       "      <td>count</td>\n",
       "      <td>1.068361e+06</td>\n",
       "    </tr>\n",
       "    <tr>\n",
       "      <td>mean</td>\n",
       "      <td>3.408766e+01</td>\n",
       "    </tr>\n",
       "    <tr>\n",
       "      <td>std</td>\n",
       "      <td>2.350485e+02</td>\n",
       "    </tr>\n",
       "    <tr>\n",
       "      <td>min</td>\n",
       "      <td>1.000000e-02</td>\n",
       "    </tr>\n",
       "    <tr>\n",
       "      <td>25%</td>\n",
       "      <td>1.000000e-02</td>\n",
       "    </tr>\n",
       "    <tr>\n",
       "      <td>50%</td>\n",
       "      <td>8.370000e+00</td>\n",
       "    </tr>\n",
       "    <tr>\n",
       "      <td>75%</td>\n",
       "      <td>1.702000e+01</td>\n",
       "    </tr>\n",
       "    <tr>\n",
       "      <td>max</td>\n",
       "      <td>8.325073e+04</td>\n",
       "    </tr>\n",
       "  </tbody>\n",
       "</table>\n",
       "</div>"
      ],
      "text/plain": [
       "         AMOUNT_GBP\n",
       "count  1.068361e+06\n",
       "mean   3.408766e+01\n",
       "std    2.350485e+02\n",
       "min    1.000000e-02\n",
       "25%    1.000000e-02\n",
       "50%    8.370000e+00\n",
       "75%    1.702000e+01\n",
       "max    8.325073e+04"
      ]
     },
     "execution_count": 9,
     "metadata": {},
     "output_type": "execute_result"
    }
   ],
   "source": [
    "trx_data.describe()"
   ]
  },
  {
   "cell_type": "markdown",
   "metadata": {},
   "source": [
    "#### Frauds Data:  757 users are marked as fraud\n",
    "#### Users Data: 200250 users are in total with no missing values\n",
    "#### Transactions Data: contains information at transaction level with no missing values\n",
    "Amount_GBP is the only numeric column"
   ]
  },
  {
   "cell_type": "code",
   "execution_count": 10,
   "metadata": {},
   "outputs": [],
   "source": [
    "superset=trx_data['USER_ID'].unique()\n",
    "subset=frauds['USER_ID'].unique()"
   ]
  },
  {
   "cell_type": "code",
   "execution_count": 11,
   "metadata": {},
   "outputs": [
    {
     "name": "stdout",
     "output_type": "stream",
     "text": [
      "1\n"
     ]
    }
   ],
   "source": [
    "flag = 0\n",
    "if(set(subset).issubset(set(superset))): \n",
    "    flag = 1\n",
    "print(flag)"
   ]
  },
  {
   "cell_type": "markdown",
   "metadata": {},
   "source": [
    "user level information corresponding to all transactions is present and so merged with transactions and  fraud label is also added"
   ]
  },
  {
   "cell_type": "code",
   "execution_count": 12,
   "metadata": {},
   "outputs": [],
   "source": [
    "transactional_data = pd.merge(trx_data, users_data, left_on='USER_ID', right_on='ID')"
   ]
  },
  {
   "cell_type": "code",
   "execution_count": 13,
   "metadata": {},
   "outputs": [],
   "source": [
    "transactional_data.drop('ID_y',axis=1,inplace=True)\n",
    "transactional_data.rename(columns={'CREATED_DATE_x': 'TRANSACTION_DATE', 'CREATED_DATE_y': 'SIGNUP_DATE','ID_x':'ID'},inplace=True)"
   ]
  },
  {
   "cell_type": "code",
   "execution_count": 14,
   "metadata": {},
   "outputs": [],
   "source": [
    "transactional_data['Fraud']=[1 if x in frauds['USER_ID'].unique() else 0 for x in transactional_data['USER_ID']] "
   ]
  },
  {
   "cell_type": "markdown",
   "metadata": {
    "scrolled": true
   },
   "source": [
    "### Exploratory Data Analysis\n",
    "<a id='section3'></a>"
   ]
  },
  {
   "cell_type": "code",
   "execution_count": 15,
   "metadata": {},
   "outputs": [
    {
     "data": {
      "text/html": [
       "<div>\n",
       "<style scoped>\n",
       "    .dataframe tbody tr th:only-of-type {\n",
       "        vertical-align: middle;\n",
       "    }\n",
       "\n",
       "    .dataframe tbody tr th {\n",
       "        vertical-align: top;\n",
       "    }\n",
       "\n",
       "    .dataframe thead th {\n",
       "        text-align: right;\n",
       "    }\n",
       "</style>\n",
       "<table border=\"1\" class=\"dataframe\">\n",
       "  <thead>\n",
       "    <tr style=\"text-align: right;\">\n",
       "      <th></th>\n",
       "      <th>ID</th>\n",
       "      <th>USER_ID</th>\n",
       "      <th>TRANSACTION_DATE</th>\n",
       "      <th>TYPE</th>\n",
       "      <th>STATE</th>\n",
       "      <th>AMOUNT_GBP</th>\n",
       "      <th>CURRENCY</th>\n",
       "      <th>SIGNUP_DATE</th>\n",
       "      <th>COUNTRY</th>\n",
       "      <th>BIRTH_DATE</th>\n",
       "      <th>Fraud</th>\n",
       "    </tr>\n",
       "  </thead>\n",
       "  <tbody>\n",
       "    <tr>\n",
       "      <td>0</td>\n",
       "      <td>9499c9c9-c9a9-410f-820d-c6e92fed27fb</td>\n",
       "      <td>00001f33-1d47-47a3-8955-e719172e788b</td>\n",
       "      <td>2019-04-11 20:53:54.700</td>\n",
       "      <td>TOPUP</td>\n",
       "      <td>REVERTED</td>\n",
       "      <td>0.01</td>\n",
       "      <td>EUR</td>\n",
       "      <td>2019-04-11 20:49:42.623</td>\n",
       "      <td>IE</td>\n",
       "      <td>1994-08-17</td>\n",
       "      <td>0</td>\n",
       "    </tr>\n",
       "    <tr>\n",
       "      <td>1</td>\n",
       "      <td>b310db00-490f-4185-b247-c59f5694dd67</td>\n",
       "      <td>00001f33-1d47-47a3-8955-e719172e788b</td>\n",
       "      <td>2019-04-11 20:54:02.156</td>\n",
       "      <td>TOPUP</td>\n",
       "      <td>COMPLETED</td>\n",
       "      <td>8.92</td>\n",
       "      <td>EUR</td>\n",
       "      <td>2019-04-11 20:49:42.623</td>\n",
       "      <td>IE</td>\n",
       "      <td>1994-08-17</td>\n",
       "      <td>0</td>\n",
       "    </tr>\n",
       "  </tbody>\n",
       "</table>\n",
       "</div>"
      ],
      "text/plain": [
       "                                     ID                               USER_ID  \\\n",
       "0  9499c9c9-c9a9-410f-820d-c6e92fed27fb  00001f33-1d47-47a3-8955-e719172e788b   \n",
       "1  b310db00-490f-4185-b247-c59f5694dd67  00001f33-1d47-47a3-8955-e719172e788b   \n",
       "\n",
       "         TRANSACTION_DATE   TYPE      STATE  AMOUNT_GBP CURRENCY  \\\n",
       "0 2019-04-11 20:53:54.700  TOPUP   REVERTED        0.01      EUR   \n",
       "1 2019-04-11 20:54:02.156  TOPUP  COMPLETED        8.92      EUR   \n",
       "\n",
       "              SIGNUP_DATE COUNTRY BIRTH_DATE  Fraud  \n",
       "0 2019-04-11 20:49:42.623      IE 1994-08-17      0  \n",
       "1 2019-04-11 20:49:42.623      IE 1994-08-17      0  "
      ]
     },
     "execution_count": 15,
     "metadata": {},
     "output_type": "execute_result"
    }
   ],
   "source": [
    "transactional_data.head(2)"
   ]
  },
  {
   "cell_type": "markdown",
   "metadata": {},
   "source": [
    "Each feature is explored visually and facts are stored"
   ]
  },
  {
   "cell_type": "code",
   "execution_count": 16,
   "metadata": {},
   "outputs": [
    {
     "data": {
      "text/plain": [
       "<matplotlib.axes._subplots.AxesSubplot at 0x284b71a0160>"
      ]
     },
     "execution_count": 16,
     "metadata": {},
     "output_type": "execute_result"
    },
    {
     "data": {
      "image/png": "[encoded data removed]",
      "text/plain": [
       "<Figure size 720x216 with 2 Axes>"
      ]
     },
     "metadata": {
      "needs_background": "light"
     },
     "output_type": "display_data"
    }
   ],
   "source": [
    "fig, ax =plt.subplots(1,2,figsize=(10,3))\n",
    "fig.tight_layout()\n",
    "sns.distplot(transactional_data['AMOUNT_GBP'], rug=True,ax=ax[0])\n",
    "sns.boxplot(transactional_data[\"AMOUNT_GBP\"],ax=ax[1],showfliers=False)"
   ]
  },
  {
   "cell_type": "markdown",
   "metadata": {},
   "source": [
    "AMOUNT_GBP is right skewed and affected by outliers"
   ]
  },
  {
   "cell_type": "code",
   "execution_count": 17,
   "metadata": {
    "scrolled": true
   },
   "outputs": [
    {
     "data": {
      "text/plain": [
       "<matplotlib.axes._subplots.AxesSubplot at 0x284b55feac8>"
      ]
     },
     "execution_count": 17,
     "metadata": {},
     "output_type": "execute_result"
    },
    {
     "data": {
      "image/png": "[encoded data removed]",
      "text/plain": [
       "<Figure size 720x360 with 1 Axes>"
      ]
     },
     "metadata": {
      "needs_background": "light"
     },
     "output_type": "display_data"
    }
   ],
   "source": [
    "plt.figure(figsize=(10,5))\n",
    "sns.boxplot(x=\"STATE\",y=\"AMOUNT_GBP\",hue=\"Fraud\",data=transactional_data, palette=\"coolwarm\",showfliers=False)"
   ]
  },
  {
   "cell_type": "markdown",
   "metadata": {},
   "source": [
    "REVERTED transactions amount are very less for both fraud and non-fraud,so only used to confirm the new account linked.\n",
    "FAILED and DECLINED transactions have significant variance between the two classes.\n",
    "COMPLETED transactions are the only one that affects the balance"
   ]
  },
  {
   "cell_type": "code",
   "execution_count": 18,
   "metadata": {
    "scrolled": true
   },
   "outputs": [
    {
     "data": {
      "text/plain": [
       "<matplotlib.axes._subplots.AxesSubplot at 0x284b71de710>"
      ]
     },
     "execution_count": 18,
     "metadata": {},
     "output_type": "execute_result"
    },
    {
     "data": {
      "image/png": "[encoded data removed]",
      "text/plain": [
       "<Figure size 720x360 with 1 Axes>"
      ]
     },
     "metadata": {
      "needs_background": "light"
     },
     "output_type": "display_data"
    }
   ],
   "source": [
    "plt.figure(figsize=(10,5))\n",
    "sns.boxplot(x=\"TYPE\",y=\"AMOUNT_GBP\",hue=\"Fraud\",data=transactional_data, palette=\"coolwarm\",showfliers=False)"
   ]
  },
  {
   "cell_type": "markdown",
   "metadata": {},
   "source": [
    "FEE and CARD_PAYMENT are not that much significant to distinguish two classes "
   ]
  },
  {
   "cell_type": "code",
   "execution_count": 19,
   "metadata": {},
   "outputs": [
    {
     "data": {
      "image/png": "[encoded data removed]",
      "text/plain": [
       "<Figure size 432x288 with 1 Axes>"
      ]
     },
     "metadata": {},
     "output_type": "display_data"
    }
   ],
   "source": [
    "currencies=transactional_data['CURRENCY'].value_counts().head(5)/len(transactional_data)*100\n",
    "labels1=currencies.index.values.tolist()\n",
    "countries=transactional_data['COUNTRY'].value_counts().head(5)/len(transactional_data)*100\n",
    "labels2=countries.index.values.tolist()\n",
    "fig1, ax1 = plt.subplots()\n",
    "ax1.pie(currencies, labels=labels1, autopct='%1.1f%%',shadow=True, startangle=90)\n",
    "# Equal aspect ratio ensures that pie is drawn as a circle\n",
    "ax1.axis('equal')\n",
    "plt.tight_layout()\n",
    "plt.show()"
   ]
  },
  {
   "cell_type": "markdown",
   "metadata": {},
   "source": [
    "Most of the transactions original currency are EUR and GBP"
   ]
  },
  {
   "cell_type": "code",
   "execution_count": 20,
   "metadata": {
    "scrolled": true
   },
   "outputs": [
    {
     "data": {
      "image/png": "[encoded data removed]",
      "text/plain": [
       "<Figure size 432x288 with 1 Axes>"
      ]
     },
     "metadata": {},
     "output_type": "display_data"
    }
   ],
   "source": [
    "fig1, ax1 = plt.subplots()\n",
    "ax1.pie(countries, labels=labels2, autopct='%1.1f%%',shadow=True, startangle=90)\n",
    "ax1.axis('equal')\n",
    "plt.tight_layout()\n",
    "plt.show()"
   ]
  },
  {
   "cell_type": "markdown",
   "metadata": {},
   "source": [
    "Most of the users are from GB and PL"
   ]
  },
  {
   "cell_type": "markdown",
   "metadata": {},
   "source": [
    "### Feature Engineering\n",
    "<a id='section4'></a>"
   ]
  },
  {
   "cell_type": "code",
   "execution_count": 21,
   "metadata": {},
   "outputs": [
    {
     "data": {
      "text/plain": [
       "(1068361, 11)"
      ]
     },
     "execution_count": 21,
     "metadata": {},
     "output_type": "execute_result"
    }
   ],
   "source": [
    "transactional_data.shape"
   ]
  },
  {
   "cell_type": "markdown",
   "metadata": {},
   "source": [
    "#### Based on above facts, transactions are filtered as per their STATE and TYPE"
   ]
  },
  {
   "cell_type": "code",
   "execution_count": 22,
   "metadata": {},
   "outputs": [
    {
     "data": {
      "text/plain": [
       "(599134, 11)"
      ]
     },
     "execution_count": 22,
     "metadata": {},
     "output_type": "execute_result"
    }
   ],
   "source": [
    "transactional_data=transactional_data[~transactional_data['STATE'].isin(['FAILED','DECLINED']) & ~transactional_data['TYPE'].isin(['FEE','CARD_PAYMENT'])]\n",
    "transactional_data.shape"
   ]
  },
  {
   "cell_type": "code",
   "execution_count": 23,
   "metadata": {},
   "outputs": [],
   "source": [
    "transactional_data['AGE']=transactional_data['SIGNUP_DATE'] - transactional_data['BIRTH_DATE']\n",
    "transactional_data['AGE']=transactional_data['AGE']/np.timedelta64(1,'Y')\n",
    "transactional_data['trx_done_after'] = transactional_data['TRANSACTION_DATE'] - transactional_data['SIGNUP_DATE']\n",
    "transactional_data['first_trx_done_after_ndays']=transactional_data['trx_done_after']/np.timedelta64(1,'D')\n"
   ]
  },
  {
   "cell_type": "code",
   "execution_count": 24,
   "metadata": {},
   "outputs": [],
   "source": [
    "transactional_data=transactional_data.sort_values(['USER_ID','trx_done_after', 'first_trx_done_after_ndays'], ascending=[True, True, True])"
   ]
  },
  {
   "cell_type": "code",
   "execution_count": 25,
   "metadata": {
    "scrolled": true
   },
   "outputs": [
    {
     "data": {
      "text/html": [
       "<div>\n",
       "<style scoped>\n",
       "    .dataframe tbody tr th:only-of-type {\n",
       "        vertical-align: middle;\n",
       "    }\n",
       "\n",
       "    .dataframe tbody tr th {\n",
       "        vertical-align: top;\n",
       "    }\n",
       "\n",
       "    .dataframe thead th {\n",
       "        text-align: right;\n",
       "    }\n",
       "</style>\n",
       "<table border=\"1\" class=\"dataframe\">\n",
       "  <thead>\n",
       "    <tr style=\"text-align: right;\">\n",
       "      <th></th>\n",
       "      <th>AMOUNT_GBP</th>\n",
       "      <th>Fraud</th>\n",
       "      <th>AGE</th>\n",
       "      <th>first_trx_done_after_ndays</th>\n",
       "    </tr>\n",
       "  </thead>\n",
       "  <tbody>\n",
       "    <tr>\n",
       "      <td>AMOUNT_GBP</td>\n",
       "      <td>1.000000</td>\n",
       "      <td>0.039799</td>\n",
       "      <td>0.032755</td>\n",
       "      <td>0.141961</td>\n",
       "    </tr>\n",
       "    <tr>\n",
       "      <td>Fraud</td>\n",
       "      <td>0.039799</td>\n",
       "      <td>1.000000</td>\n",
       "      <td>-0.058006</td>\n",
       "      <td>0.022494</td>\n",
       "    </tr>\n",
       "    <tr>\n",
       "      <td>AGE</td>\n",
       "      <td>0.032755</td>\n",
       "      <td>-0.058006</td>\n",
       "      <td>1.000000</td>\n",
       "      <td>-0.087290</td>\n",
       "    </tr>\n",
       "    <tr>\n",
       "      <td>first_trx_done_after_ndays</td>\n",
       "      <td>0.141961</td>\n",
       "      <td>0.022494</td>\n",
       "      <td>-0.087290</td>\n",
       "      <td>1.000000</td>\n",
       "    </tr>\n",
       "  </tbody>\n",
       "</table>\n",
       "</div>"
      ],
      "text/plain": [
       "                            AMOUNT_GBP     Fraud       AGE  \\\n",
       "AMOUNT_GBP                    1.000000  0.039799  0.032755   \n",
       "Fraud                         0.039799  1.000000 -0.058006   \n",
       "AGE                           0.032755 -0.058006  1.000000   \n",
       "first_trx_done_after_ndays    0.141961  0.022494 -0.087290   \n",
       "\n",
       "                            first_trx_done_after_ndays  \n",
       "AMOUNT_GBP                                    0.141961  \n",
       "Fraud                                         0.022494  \n",
       "AGE                                          -0.087290  \n",
       "first_trx_done_after_ndays                    1.000000  "
      ]
     },
     "execution_count": 25,
     "metadata": {},
     "output_type": "execute_result"
    }
   ],
   "source": [
    "transactional_data.corr()"
   ]
  },
  {
   "cell_type": "code",
   "execution_count": 26,
   "metadata": {},
   "outputs": [
    {
     "data": {
      "text/plain": [
       "<matplotlib.axes._subplots.AxesSubplot at 0x284b55fef60>"
      ]
     },
     "execution_count": 26,
     "metadata": {},
     "output_type": "execute_result"
    },
    {
     "data": {
      "image/png": "[encoded data removed]",
      "text/plain": [
       "<Figure size 432x288 with 1 Axes>"
      ]
     },
     "metadata": {
      "needs_background": "light"
     },
     "output_type": "display_data"
    }
   ],
   "source": [
    "sns.countplot(transactional_data['Fraud'])"
   ]
  },
  {
   "cell_type": "markdown",
   "metadata": {},
   "source": [
    "### Splitting to avoid Data Leakage\n",
    "<a id='section5'></a>\n",
    "In an imbalanced dataset, data leakage is another worst thing that can happen, so a proper splitting strategy is needed"
   ]
  },
  {
   "cell_type": "code",
   "execution_count": 27,
   "metadata": {},
   "outputs": [],
   "source": [
    "train,test=train_test_split(frauds, test_size=0.25,random_state=0)"
   ]
  },
  {
   "cell_type": "code",
   "execution_count": 28,
   "metadata": {},
   "outputs": [
    {
     "name": "stdout",
     "output_type": "stream",
     "text": [
      "Total USERS are : 199483\n",
      "Total transactions are : 599134\n"
     ]
    }
   ],
   "source": [
    "print(\"Total USERS are :\" ,transactional_data['USER_ID'].nunique())\n",
    "print(\"Total transactions are :\" ,transactional_data.shape[0])"
   ]
  },
  {
   "cell_type": "code",
   "execution_count": 29,
   "metadata": {},
   "outputs": [],
   "source": [
    "fraud_users=frauds['USER_ID'].tolist()\n",
    "train_fraud_users=train['USER_ID'].tolist()\n",
    "test_fraud_users=test['USER_ID'].tolist()"
   ]
  },
  {
   "cell_type": "code",
   "execution_count": 30,
   "metadata": {},
   "outputs": [],
   "source": [
    "total_fraud_trx=transactional_data[transactional_data['USER_ID'].isin(fraud_users)]\n",
    "train_fraud_data=transactional_data[transactional_data['USER_ID'].isin(train_fraud_users)]\n",
    "test_fraud_data=transactional_data[transactional_data['USER_ID'].isin(test_fraud_users)]"
   ]
  },
  {
   "cell_type": "code",
   "execution_count": 31,
   "metadata": {},
   "outputs": [
    {
     "name": "stdout",
     "output_type": "stream",
     "text": [
      "Total Fraud USERS are : 757\n",
      "Total Fraud transactions are : 5565\n",
      "Fraud transactions for training are : 4213\n",
      "Fraud transactions for testing are : 1352\n"
     ]
    }
   ],
   "source": [
    "print(\"Total Fraud USERS are :\" ,frauds.shape[0])\n",
    "print(\"Total Fraud transactions are :\" ,total_fraud_trx.shape[0])\n",
    "print(\"Fraud transactions for training are :\" ,train_fraud_data.shape[0])\n",
    "print(\"Fraud transactions for testing are :\" ,test_fraud_data.shape[0])"
   ]
  },
  {
   "cell_type": "markdown",
   "metadata": {},
   "source": [
    "#### Getting valid users and their transactions count\n"
   ]
  },
  {
   "cell_type": "code",
   "execution_count": 32,
   "metadata": {},
   "outputs": [],
   "source": [
    "valid_transactions=transactional_data[transactional_data['Fraud']==0]\n",
    "valid_users=valid_transactions['USER_ID'].unique()"
   ]
  },
  {
   "cell_type": "code",
   "execution_count": 33,
   "metadata": {},
   "outputs": [],
   "source": [
    "train_valid_users=valid_users[:149045]\n",
    "test_valid_users=valid_users[149045:]"
   ]
  },
  {
   "cell_type": "markdown",
   "metadata": {},
   "source": [
    "### Evaluating valid transactions\n",
    "<a id='section6'></a>"
   ]
  },
  {
   "cell_type": "code",
   "execution_count": 34,
   "metadata": {
    "scrolled": false
   },
   "outputs": [
    {
     "data": {
      "text/plain": [
       "array(['00001f33-1d47-47a3-8955-e719172e788b',\n",
       "       '00005048-a584-4b94-a0fc-481c7bc916f1',\n",
       "       '0000bc95-82c9-4c4b-a422-e807da1e9443',\n",
       "       '0000e262-23b9-4764-82d1-1d4d07ac63b7',\n",
       "       '0001319d-92c5-4c95-bfea-98c4e65c461b'], dtype=object)"
      ]
     },
     "execution_count": 34,
     "metadata": {},
     "output_type": "execute_result"
    }
   ],
   "source": [
    "valid_users[:5]"
   ]
  },
  {
   "cell_type": "code",
   "execution_count": 35,
   "metadata": {},
   "outputs": [
    {
     "data": {
      "text/html": [
       "<div>\n",
       "<style scoped>\n",
       "    .dataframe tbody tr th:only-of-type {\n",
       "        vertical-align: middle;\n",
       "    }\n",
       "\n",
       "    .dataframe tbody tr th {\n",
       "        vertical-align: top;\n",
       "    }\n",
       "\n",
       "    .dataframe thead th {\n",
       "        text-align: right;\n",
       "    }\n",
       "</style>\n",
       "<table border=\"1\" class=\"dataframe\">\n",
       "  <thead>\n",
       "    <tr style=\"text-align: right;\">\n",
       "      <th></th>\n",
       "      <th>ID</th>\n",
       "      <th>USER_ID</th>\n",
       "      <th>TRANSACTION_DATE</th>\n",
       "      <th>TYPE</th>\n",
       "      <th>STATE</th>\n",
       "      <th>AMOUNT_GBP</th>\n",
       "      <th>CURRENCY</th>\n",
       "      <th>SIGNUP_DATE</th>\n",
       "      <th>COUNTRY</th>\n",
       "      <th>BIRTH_DATE</th>\n",
       "      <th>Fraud</th>\n",
       "      <th>AGE</th>\n",
       "      <th>trx_done_after</th>\n",
       "      <th>first_trx_done_after_ndays</th>\n",
       "    </tr>\n",
       "  </thead>\n",
       "  <tbody>\n",
       "    <tr>\n",
       "      <td>25</td>\n",
       "      <td>ab80633d-f0e8-493a-8a5f-1d07528754ef</td>\n",
       "      <td>0001319d-92c5-4c95-bfea-98c4e65c461b</td>\n",
       "      <td>2019-04-19 15:55:49.682</td>\n",
       "      <td>TOPUP</td>\n",
       "      <td>REVERTED</td>\n",
       "      <td>0.01</td>\n",
       "      <td>GBP</td>\n",
       "      <td>2019-04-19 15:18:30.358</td>\n",
       "      <td>GB</td>\n",
       "      <td>2001-04-19</td>\n",
       "      <td>0</td>\n",
       "      <td>18.000747</td>\n",
       "      <td>0 days 00:37:19.324000</td>\n",
       "      <td>0.025918</td>\n",
       "    </tr>\n",
       "    <tr>\n",
       "      <td>26</td>\n",
       "      <td>6f3ef2ef-ef68-48ac-b231-5a50a86d99c7</td>\n",
       "      <td>0001319d-92c5-4c95-bfea-98c4e65c461b</td>\n",
       "      <td>2019-04-19 15:56:19.027</td>\n",
       "      <td>TOPUP</td>\n",
       "      <td>COMPLETED</td>\n",
       "      <td>10.00</td>\n",
       "      <td>GBP</td>\n",
       "      <td>2019-04-19 15:18:30.358</td>\n",
       "      <td>GB</td>\n",
       "      <td>2001-04-19</td>\n",
       "      <td>0</td>\n",
       "      <td>18.000747</td>\n",
       "      <td>0 days 00:37:48.669000</td>\n",
       "      <td>0.026258</td>\n",
       "    </tr>\n",
       "    <tr>\n",
       "      <td>27</td>\n",
       "      <td>a6c3a1f8-7aba-48b4-9dd4-a6223dd79f00</td>\n",
       "      <td>0001319d-92c5-4c95-bfea-98c4e65c461b</td>\n",
       "      <td>2019-04-20 21:33:38.665</td>\n",
       "      <td>EXCHANGE</td>\n",
       "      <td>COMPLETED</td>\n",
       "      <td>1.00</td>\n",
       "      <td>EUR</td>\n",
       "      <td>2019-04-19 15:18:30.358</td>\n",
       "      <td>GB</td>\n",
       "      <td>2001-04-19</td>\n",
       "      <td>0</td>\n",
       "      <td>18.000747</td>\n",
       "      <td>1 days 06:15:08.307000</td>\n",
       "      <td>1.260513</td>\n",
       "    </tr>\n",
       "    <tr>\n",
       "      <td>28</td>\n",
       "      <td>5c520194-97cb-44c9-b420-978b70529a38</td>\n",
       "      <td>0001319d-92c5-4c95-bfea-98c4e65c461b</td>\n",
       "      <td>2019-04-20 21:41:27.564</td>\n",
       "      <td>EXCHANGE</td>\n",
       "      <td>COMPLETED</td>\n",
       "      <td>0.99</td>\n",
       "      <td>GBP</td>\n",
       "      <td>2019-04-19 15:18:30.358</td>\n",
       "      <td>GB</td>\n",
       "      <td>2001-04-19</td>\n",
       "      <td>0</td>\n",
       "      <td>18.000747</td>\n",
       "      <td>1 days 06:22:57.206000</td>\n",
       "      <td>1.265940</td>\n",
       "    </tr>\n",
       "  </tbody>\n",
       "</table>\n",
       "</div>"
      ],
      "text/plain": [
       "                                      ID  \\\n",
       "25  ab80633d-f0e8-493a-8a5f-1d07528754ef   \n",
       "26  6f3ef2ef-ef68-48ac-b231-5a50a86d99c7   \n",
       "27  a6c3a1f8-7aba-48b4-9dd4-a6223dd79f00   \n",
       "28  5c520194-97cb-44c9-b420-978b70529a38   \n",
       "\n",
       "                                 USER_ID        TRANSACTION_DATE      TYPE  \\\n",
       "25  0001319d-92c5-4c95-bfea-98c4e65c461b 2019-04-19 15:55:49.682     TOPUP   \n",
       "26  0001319d-92c5-4c95-bfea-98c4e65c461b 2019-04-19 15:56:19.027     TOPUP   \n",
       "27  0001319d-92c5-4c95-bfea-98c4e65c461b 2019-04-20 21:33:38.665  EXCHANGE   \n",
       "28  0001319d-92c5-4c95-bfea-98c4e65c461b 2019-04-20 21:41:27.564  EXCHANGE   \n",
       "\n",
       "        STATE  AMOUNT_GBP CURRENCY             SIGNUP_DATE COUNTRY BIRTH_DATE  \\\n",
       "25   REVERTED        0.01      GBP 2019-04-19 15:18:30.358      GB 2001-04-19   \n",
       "26  COMPLETED       10.00      GBP 2019-04-19 15:18:30.358      GB 2001-04-19   \n",
       "27  COMPLETED        1.00      EUR 2019-04-19 15:18:30.358      GB 2001-04-19   \n",
       "28  COMPLETED        0.99      GBP 2019-04-19 15:18:30.358      GB 2001-04-19   \n",
       "\n",
       "    Fraud        AGE         trx_done_after  first_trx_done_after_ndays  \n",
       "25      0  18.000747 0 days 00:37:19.324000                    0.025918  \n",
       "26      0  18.000747 0 days 00:37:48.669000                    0.026258  \n",
       "27      0  18.000747 1 days 06:15:08.307000                    1.260513  \n",
       "28      0  18.000747 1 days 06:22:57.206000                    1.265940  "
      ]
     },
     "execution_count": 35,
     "metadata": {},
     "output_type": "execute_result"
    }
   ],
   "source": [
    "valid_transactions[valid_transactions['USER_ID']=='0001319d-92c5-4c95-bfea-98c4e65c461b']"
   ]
  },
  {
   "cell_type": "markdown",
   "metadata": {},
   "source": [
    "### Evaluating fraud patterns\n",
    "<a id='section7'></a>"
   ]
  },
  {
   "cell_type": "code",
   "execution_count": 36,
   "metadata": {},
   "outputs": [
    {
     "data": {
      "text/plain": [
       "['005ab95c-e876-4bf1-a5ea-bc3decfcacfc',\n",
       " '00645cf3-2589-48ff-b7df-c391eb4ce2c2',\n",
       " '00e26a77-0f19-421c-b154-f36cbd04638f',\n",
       " '013580c7-5744-4d4c-babf-e57ed0105420',\n",
       " '0211c232-1cc5-4591-9d1e-e132dd89ce92']"
      ]
     },
     "execution_count": 36,
     "metadata": {},
     "output_type": "execute_result"
    }
   ],
   "source": [
    "fraud_users[:5]"
   ]
  },
  {
   "cell_type": "markdown",
   "metadata": {},
   "source": [
    "###  (topups and transfers)\n"
   ]
  },
  {
   "cell_type": "code",
   "execution_count": 37,
   "metadata": {
    "scrolled": true
   },
   "outputs": [
    {
     "data": {
      "text/html": [
       "<div>\n",
       "<style scoped>\n",
       "    .dataframe tbody tr th:only-of-type {\n",
       "        vertical-align: middle;\n",
       "    }\n",
       "\n",
       "    .dataframe tbody tr th {\n",
       "        vertical-align: top;\n",
       "    }\n",
       "\n",
       "    .dataframe thead th {\n",
       "        text-align: right;\n",
       "    }\n",
       "</style>\n",
       "<table border=\"1\" class=\"dataframe\">\n",
       "  <thead>\n",
       "    <tr style=\"text-align: right;\">\n",
       "      <th></th>\n",
       "      <th>ID</th>\n",
       "      <th>USER_ID</th>\n",
       "      <th>TRANSACTION_DATE</th>\n",
       "      <th>TYPE</th>\n",
       "      <th>STATE</th>\n",
       "      <th>AMOUNT_GBP</th>\n",
       "      <th>CURRENCY</th>\n",
       "      <th>SIGNUP_DATE</th>\n",
       "      <th>COUNTRY</th>\n",
       "      <th>BIRTH_DATE</th>\n",
       "      <th>Fraud</th>\n",
       "      <th>AGE</th>\n",
       "      <th>trx_done_after</th>\n",
       "      <th>first_trx_done_after_ndays</th>\n",
       "    </tr>\n",
       "  </thead>\n",
       "  <tbody>\n",
       "    <tr>\n",
       "      <td>1347</td>\n",
       "      <td>5a547cc6-bd0f-46cc-8387-f19f5e76a274</td>\n",
       "      <td>005ab95c-e876-4bf1-a5ea-bc3decfcacfc</td>\n",
       "      <td>2019-04-09 21:08:24.744</td>\n",
       "      <td>TOPUP</td>\n",
       "      <td>REVERTED</td>\n",
       "      <td>0.01</td>\n",
       "      <td>GBP</td>\n",
       "      <td>2019-03-25 11:46:24.460</td>\n",
       "      <td>GB</td>\n",
       "      <td>2001-02-11</td>\n",
       "      <td>1</td>\n",
       "      <td>18.115336</td>\n",
       "      <td>15 days 09:22:00.284000</td>\n",
       "      <td>15.390281</td>\n",
       "    </tr>\n",
       "    <tr>\n",
       "      <td>1348</td>\n",
       "      <td>bab469c4-4b5f-47fa-b175-3ba91c350d92</td>\n",
       "      <td>005ab95c-e876-4bf1-a5ea-bc3decfcacfc</td>\n",
       "      <td>2019-04-09 21:08:49.887</td>\n",
       "      <td>TOPUP</td>\n",
       "      <td>COMPLETED</td>\n",
       "      <td>20.00</td>\n",
       "      <td>GBP</td>\n",
       "      <td>2019-03-25 11:46:24.460</td>\n",
       "      <td>GB</td>\n",
       "      <td>2001-02-11</td>\n",
       "      <td>1</td>\n",
       "      <td>18.115336</td>\n",
       "      <td>15 days 09:22:25.427000</td>\n",
       "      <td>15.390572</td>\n",
       "    </tr>\n",
       "    <tr>\n",
       "      <td>1352</td>\n",
       "      <td>414a1507-6de0-429b-aad3-39a8363aafec</td>\n",
       "      <td>005ab95c-e876-4bf1-a5ea-bc3decfcacfc</td>\n",
       "      <td>2019-04-09 21:15:13.258</td>\n",
       "      <td>TRANSFER</td>\n",
       "      <td>COMPLETED</td>\n",
       "      <td>20.00</td>\n",
       "      <td>GBP</td>\n",
       "      <td>2019-03-25 11:46:24.460</td>\n",
       "      <td>GB</td>\n",
       "      <td>2001-02-11</td>\n",
       "      <td>1</td>\n",
       "      <td>18.115336</td>\n",
       "      <td>15 days 09:28:48.798000</td>\n",
       "      <td>15.395009</td>\n",
       "    </tr>\n",
       "    <tr>\n",
       "      <td>1353</td>\n",
       "      <td>f19e6629-4765-4842-a3e8-1b8ad2533809</td>\n",
       "      <td>005ab95c-e876-4bf1-a5ea-bc3decfcacfc</td>\n",
       "      <td>2019-04-12 01:19:59.791</td>\n",
       "      <td>TOPUP</td>\n",
       "      <td>REVERTED</td>\n",
       "      <td>0.01</td>\n",
       "      <td>GBP</td>\n",
       "      <td>2019-03-25 11:46:24.460</td>\n",
       "      <td>GB</td>\n",
       "      <td>2001-02-11</td>\n",
       "      <td>1</td>\n",
       "      <td>18.115336</td>\n",
       "      <td>17 days 13:33:35.331000</td>\n",
       "      <td>17.564992</td>\n",
       "    </tr>\n",
       "    <tr>\n",
       "      <td>1355</td>\n",
       "      <td>bbce6fb8-81df-4002-b4ae-1eed4e246b13</td>\n",
       "      <td>005ab95c-e876-4bf1-a5ea-bc3decfcacfc</td>\n",
       "      <td>2019-04-12 21:20:58.166</td>\n",
       "      <td>TOPUP</td>\n",
       "      <td>REVERTED</td>\n",
       "      <td>0.01</td>\n",
       "      <td>GBP</td>\n",
       "      <td>2019-03-25 11:46:24.460</td>\n",
       "      <td>GB</td>\n",
       "      <td>2001-02-11</td>\n",
       "      <td>1</td>\n",
       "      <td>18.115336</td>\n",
       "      <td>18 days 09:34:33.706000</td>\n",
       "      <td>18.399001</td>\n",
       "    </tr>\n",
       "    <tr>\n",
       "      <td>1356</td>\n",
       "      <td>39281edd-f399-4ddd-bedb-5b680d78134d</td>\n",
       "      <td>005ab95c-e876-4bf1-a5ea-bc3decfcacfc</td>\n",
       "      <td>2019-04-12 21:21:09.993</td>\n",
       "      <td>TOPUP</td>\n",
       "      <td>COMPLETED</td>\n",
       "      <td>40.00</td>\n",
       "      <td>GBP</td>\n",
       "      <td>2019-03-25 11:46:24.460</td>\n",
       "      <td>GB</td>\n",
       "      <td>2001-02-11</td>\n",
       "      <td>1</td>\n",
       "      <td>18.115336</td>\n",
       "      <td>18 days 09:34:45.533000</td>\n",
       "      <td>18.399138</td>\n",
       "    </tr>\n",
       "    <tr>\n",
       "      <td>1357</td>\n",
       "      <td>3c38fe77-34d1-4743-bfb5-0a4b16feaf40</td>\n",
       "      <td>005ab95c-e876-4bf1-a5ea-bc3decfcacfc</td>\n",
       "      <td>2019-04-12 21:43:39.916</td>\n",
       "      <td>TOPUP</td>\n",
       "      <td>COMPLETED</td>\n",
       "      <td>40.00</td>\n",
       "      <td>GBP</td>\n",
       "      <td>2019-03-25 11:46:24.460</td>\n",
       "      <td>GB</td>\n",
       "      <td>2001-02-11</td>\n",
       "      <td>1</td>\n",
       "      <td>18.115336</td>\n",
       "      <td>18 days 09:57:15.456000</td>\n",
       "      <td>18.414762</td>\n",
       "    </tr>\n",
       "    <tr>\n",
       "      <td>1360</td>\n",
       "      <td>1f67e52d-5ae4-47ea-8694-6bb641a0185e</td>\n",
       "      <td>005ab95c-e876-4bf1-a5ea-bc3decfcacfc</td>\n",
       "      <td>2019-04-12 22:00:19.243</td>\n",
       "      <td>TRANSFER</td>\n",
       "      <td>COMPLETED</td>\n",
       "      <td>80.00</td>\n",
       "      <td>GBP</td>\n",
       "      <td>2019-03-25 11:46:24.460</td>\n",
       "      <td>GB</td>\n",
       "      <td>2001-02-11</td>\n",
       "      <td>1</td>\n",
       "      <td>18.115336</td>\n",
       "      <td>18 days 10:13:54.783000</td>\n",
       "      <td>18.426329</td>\n",
       "    </tr>\n",
       "    <tr>\n",
       "      <td>1361</td>\n",
       "      <td>4d3336fe-d1df-4d5e-ac9c-9fe94d3cb816</td>\n",
       "      <td>005ab95c-e876-4bf1-a5ea-bc3decfcacfc</td>\n",
       "      <td>2019-04-13 10:15:47.969</td>\n",
       "      <td>TOPUP</td>\n",
       "      <td>REVERTED</td>\n",
       "      <td>0.01</td>\n",
       "      <td>USD</td>\n",
       "      <td>2019-03-25 11:46:24.460</td>\n",
       "      <td>GB</td>\n",
       "      <td>2001-02-11</td>\n",
       "      <td>1</td>\n",
       "      <td>18.115336</td>\n",
       "      <td>18 days 22:29:23.509000</td>\n",
       "      <td>18.937078</td>\n",
       "    </tr>\n",
       "    <tr>\n",
       "      <td>1365</td>\n",
       "      <td>2d794578-7564-4831-962c-c801bc76828a</td>\n",
       "      <td>005ab95c-e876-4bf1-a5ea-bc3decfcacfc</td>\n",
       "      <td>2019-04-13 13:21:03.833</td>\n",
       "      <td>TOPUP</td>\n",
       "      <td>REVERTED</td>\n",
       "      <td>0.01</td>\n",
       "      <td>USD</td>\n",
       "      <td>2019-03-25 11:46:24.460</td>\n",
       "      <td>GB</td>\n",
       "      <td>2001-02-11</td>\n",
       "      <td>1</td>\n",
       "      <td>18.115336</td>\n",
       "      <td>19 days 01:34:39.373000</td>\n",
       "      <td>19.065733</td>\n",
       "    </tr>\n",
       "  </tbody>\n",
       "</table>\n",
       "</div>"
      ],
      "text/plain": [
       "                                        ID  \\\n",
       "1347  5a547cc6-bd0f-46cc-8387-f19f5e76a274   \n",
       "1348  bab469c4-4b5f-47fa-b175-3ba91c350d92   \n",
       "1352  414a1507-6de0-429b-aad3-39a8363aafec   \n",
       "1353  f19e6629-4765-4842-a3e8-1b8ad2533809   \n",
       "1355  bbce6fb8-81df-4002-b4ae-1eed4e246b13   \n",
       "1356  39281edd-f399-4ddd-bedb-5b680d78134d   \n",
       "1357  3c38fe77-34d1-4743-bfb5-0a4b16feaf40   \n",
       "1360  1f67e52d-5ae4-47ea-8694-6bb641a0185e   \n",
       "1361  4d3336fe-d1df-4d5e-ac9c-9fe94d3cb816   \n",
       "1365  2d794578-7564-4831-962c-c801bc76828a   \n",
       "\n",
       "                                   USER_ID        TRANSACTION_DATE      TYPE  \\\n",
       "1347  005ab95c-e876-4bf1-a5ea-bc3decfcacfc 2019-04-09 21:08:24.744     TOPUP   \n",
       "1348  005ab95c-e876-4bf1-a5ea-bc3decfcacfc 2019-04-09 21:08:49.887     TOPUP   \n",
       "1352  005ab95c-e876-4bf1-a5ea-bc3decfcacfc 2019-04-09 21:15:13.258  TRANSFER   \n",
       "1353  005ab95c-e876-4bf1-a5ea-bc3decfcacfc 2019-04-12 01:19:59.791     TOPUP   \n",
       "1355  005ab95c-e876-4bf1-a5ea-bc3decfcacfc 2019-04-12 21:20:58.166     TOPUP   \n",
       "1356  005ab95c-e876-4bf1-a5ea-bc3decfcacfc 2019-04-12 21:21:09.993     TOPUP   \n",
       "1357  005ab95c-e876-4bf1-a5ea-bc3decfcacfc 2019-04-12 21:43:39.916     TOPUP   \n",
       "1360  005ab95c-e876-4bf1-a5ea-bc3decfcacfc 2019-04-12 22:00:19.243  TRANSFER   \n",
       "1361  005ab95c-e876-4bf1-a5ea-bc3decfcacfc 2019-04-13 10:15:47.969     TOPUP   \n",
       "1365  005ab95c-e876-4bf1-a5ea-bc3decfcacfc 2019-04-13 13:21:03.833     TOPUP   \n",
       "\n",
       "          STATE  AMOUNT_GBP CURRENCY             SIGNUP_DATE COUNTRY  \\\n",
       "1347   REVERTED        0.01      GBP 2019-03-25 11:46:24.460      GB   \n",
       "1348  COMPLETED       20.00      GBP 2019-03-25 11:46:24.460      GB   \n",
       "1352  COMPLETED       20.00      GBP 2019-03-25 11:46:24.460      GB   \n",
       "1353   REVERTED        0.01      GBP 2019-03-25 11:46:24.460      GB   \n",
       "1355   REVERTED        0.01      GBP 2019-03-25 11:46:24.460      GB   \n",
       "1356  COMPLETED       40.00      GBP 2019-03-25 11:46:24.460      GB   \n",
       "1357  COMPLETED       40.00      GBP 2019-03-25 11:46:24.460      GB   \n",
       "1360  COMPLETED       80.00      GBP 2019-03-25 11:46:24.460      GB   \n",
       "1361   REVERTED        0.01      USD 2019-03-25 11:46:24.460      GB   \n",
       "1365   REVERTED        0.01      USD 2019-03-25 11:46:24.460      GB   \n",
       "\n",
       "     BIRTH_DATE  Fraud        AGE          trx_done_after  \\\n",
       "1347 2001-02-11      1  18.115336 15 days 09:22:00.284000   \n",
       "1348 2001-02-11      1  18.115336 15 days 09:22:25.427000   \n",
       "1352 2001-02-11      1  18.115336 15 days 09:28:48.798000   \n",
       "1353 2001-02-11      1  18.115336 17 days 13:33:35.331000   \n",
       "1355 2001-02-11      1  18.115336 18 days 09:34:33.706000   \n",
       "1356 2001-02-11      1  18.115336 18 days 09:34:45.533000   \n",
       "1357 2001-02-11      1  18.115336 18 days 09:57:15.456000   \n",
       "1360 2001-02-11      1  18.115336 18 days 10:13:54.783000   \n",
       "1361 2001-02-11      1  18.115336 18 days 22:29:23.509000   \n",
       "1365 2001-02-11      1  18.115336 19 days 01:34:39.373000   \n",
       "\n",
       "      first_trx_done_after_ndays  \n",
       "1347                   15.390281  \n",
       "1348                   15.390572  \n",
       "1352                   15.395009  \n",
       "1353                   17.564992  \n",
       "1355                   18.399001  \n",
       "1356                   18.399138  \n",
       "1357                   18.414762  \n",
       "1360                   18.426329  \n",
       "1361                   18.937078  \n",
       "1365                   19.065733  "
      ]
     },
     "execution_count": 37,
     "metadata": {},
     "output_type": "execute_result"
    }
   ],
   "source": [
    "total_fraud_trx[total_fraud_trx['USER_ID']=='005ab95c-e876-4bf1-a5ea-bc3decfcacfc']"
   ]
  },
  {
   "cell_type": "code",
   "execution_count": 38,
   "metadata": {},
   "outputs": [
    {
     "name": "stdout",
     "output_type": "stream",
     "text": [
      "Total Valid USERS are : 198730\n",
      "Total Valid transactions are : 593569\n",
      "Valid transactions for training are : 149045\n",
      "Valid transactions for testing are : 49685\n"
     ]
    }
   ],
   "source": [
    "print(\"Total Valid USERS are :\" ,len(valid_users))\n",
    "print(\"Total Valid transactions are :\" ,valid_transactions.shape[0])\n",
    "print(\"Valid transactions for training are :\" ,len(train_valid_users))\n",
    "print(\"Valid transactions for testing are :\" ,len(test_valid_users))"
   ]
  },
  {
   "cell_type": "code",
   "execution_count": 39,
   "metadata": {},
   "outputs": [],
   "source": [
    "train_valid_data=transactional_data[transactional_data['USER_ID'].isin(train_valid_users)]\n",
    "test_valid_data=transactional_data[transactional_data['USER_ID'].isin(test_valid_users)]"
   ]
  },
  {
   "cell_type": "code",
   "execution_count": 40,
   "metadata": {},
   "outputs": [
    {
     "name": "stdout",
     "output_type": "stream",
     "text": [
      "Training data shape (449355, 14)\n",
      "Testing data shape (149779, 14)\n"
     ]
    }
   ],
   "source": [
    "train_data=pd.concat([train_valid_data,train_fraud_data]).reset_index(drop=True)\n",
    "test_data=pd.concat([test_valid_data,test_fraud_data]).reset_index(drop=True)\n",
    "print(\"Training data shape\",train_data.shape)\n",
    "print(\"Testing data shape\",test_data.shape)"
   ]
  },
  {
   "cell_type": "markdown",
   "metadata": {},
   "source": [
    "confirms no data leakage by evaluating at user level"
   ]
  },
  {
   "cell_type": "code",
   "execution_count": 41,
   "metadata": {},
   "outputs": [
    {
     "data": {
      "text/plain": [
       "set()"
      ]
     },
     "execution_count": 41,
     "metadata": {},
     "output_type": "execute_result"
    }
   ],
   "source": [
    "set(train_data['USER_ID'].unique()) & set(test_data['USER_ID'].unique())"
   ]
  },
  {
   "cell_type": "markdown",
   "metadata": {},
   "source": [
    "### Training Data analysis\n",
    "<a id='section8'></a>"
   ]
  },
  {
   "cell_type": "code",
   "execution_count": 42,
   "metadata": {
    "scrolled": true
   },
   "outputs": [
    {
     "data": {
      "text/plain": [
       "<matplotlib.axes._subplots.AxesSubplot at 0x28480a8be10>"
      ]
     },
     "execution_count": 42,
     "metadata": {},
     "output_type": "execute_result"
    },
    {
     "data": {
      "image/png": "[encoded data removed]",
      "text/plain": [
       "<Figure size 720x216 with 3 Axes>"
      ]
     },
     "metadata": {
      "needs_background": "light"
     },
     "output_type": "display_data"
    }
   ],
   "source": [
    "fig, ax =plt.subplots(1,3,figsize=(10, 3))\n",
    "ax[0].title.set_text('Valid Data ')\n",
    "ax[1].title.set_text('Fraud Data ')\n",
    "ax[2].title.set_text('Train Data ')\n",
    "fig.tight_layout()\n",
    "sns.distplot(train_valid_data[\"AMOUNT_GBP\"], ax=ax[0])\n",
    "sns.distplot(train_fraud_data[\"AMOUNT_GBP\"], ax=ax[1])\n",
    "sns.distplot(train_data[\"AMOUNT_GBP\"], ax=ax[2])"
   ]
  },
  {
   "cell_type": "code",
   "execution_count": 43,
   "metadata": {},
   "outputs": [
    {
     "data": {
      "text/plain": [
       "<matplotlib.axes._subplots.AxesSubplot at 0x28480d2b278>"
      ]
     },
     "execution_count": 43,
     "metadata": {},
     "output_type": "execute_result"
    },
    {
     "data": {
      "image/png": "[encoded data removed]",
      "text/plain": [
       "<Figure size 720x216 with 3 Axes>"
      ]
     },
     "metadata": {
      "needs_background": "light"
     },
     "output_type": "display_data"
    }
   ],
   "source": [
    "fig, ax =plt.subplots(1,3, figsize=(10, 3))\n",
    "\n",
    "ax[0].title.set_text('Valid Data ')\n",
    "ax[1].title.set_text('Fraud Data ')\n",
    "ax[2].title.set_text('Train Data ')\n",
    "fig.tight_layout()\n",
    "sns.distplot(train_valid_data[\"AGE\"], ax=ax[0])\n",
    "sns.distplot(train_fraud_data[\"AGE\"], ax=ax[1])\n",
    "sns.distplot(train_data[\"AGE\"], ax=ax[2])"
   ]
  },
  {
   "cell_type": "markdown",
   "metadata": {},
   "source": [
    "#### AGE varies for fraud and non-fraud (valid) transactions"
   ]
  },
  {
   "cell_type": "code",
   "execution_count": 44,
   "metadata": {},
   "outputs": [
    {
     "data": {
      "text/plain": [
       "<matplotlib.axes._subplots.AxesSubplot at 0x28483b8e978>"
      ]
     },
     "execution_count": 44,
     "metadata": {},
     "output_type": "execute_result"
    },
    {
     "data": {
      "image/png": "[encoded data removed]",
      "text/plain": [
       "<Figure size 720x216 with 3 Axes>"
      ]
     },
     "metadata": {
      "needs_background": "light"
     },
     "output_type": "display_data"
    }
   ],
   "source": [
    "fig, ax =plt.subplots(1,3,figsize=(10, 3))\n",
    "ax[0].title.set_text('Valid Data ')\n",
    "ax[1].title.set_text('Fraud Data ')\n",
    "ax[2].title.set_text('Train Data ')\n",
    "fig.tight_layout()\n",
    "sns.distplot(train_valid_data[\"first_trx_done_after_ndays\"], ax=ax[0])\n",
    "sns.distplot(train_fraud_data[\"first_trx_done_after_ndays\"], ax=ax[1])\n",
    "sns.distplot(train_data[\"first_trx_done_after_ndays\"], ax=ax[2])"
   ]
  },
  {
   "cell_type": "markdown",
   "metadata": {},
   "source": [
    "There are currencies which are in test but not in train and also don't have frauds"
   ]
  },
  {
   "cell_type": "code",
   "execution_count": 45,
   "metadata": {},
   "outputs": [
    {
     "data": {
      "text/plain": [
       "{'BBD', 'BSD', 'MNT', 'SCR', 'UZS'}"
      ]
     },
     "execution_count": 45,
     "metadata": {},
     "output_type": "execute_result"
    }
   ],
   "source": [
    "set(test_data['CURRENCY'].unique()) - set(train_data['CURRENCY'].unique())"
   ]
  },
  {
   "cell_type": "code",
   "execution_count": 46,
   "metadata": {},
   "outputs": [
    {
     "data": {
      "text/plain": [
       "0"
      ]
     },
     "execution_count": 46,
     "metadata": {},
     "output_type": "execute_result"
    }
   ],
   "source": [
    "transactional_data[transactional_data['CURRENCY'].isin(['BZD', 'GTQ', 'UZS'])].Fraud.sum()"
   ]
  },
  {
   "cell_type": "markdown",
   "metadata": {},
   "source": [
    "### Model Creation\n",
    "<a id='section9'></a>"
   ]
  },
  {
   "cell_type": "code",
   "execution_count": 47,
   "metadata": {
    "scrolled": true
   },
   "outputs": [],
   "source": [
    "training_data=train_data[['ID','USER_ID','TYPE','STATE','AMOUNT_GBP','CURRENCY','COUNTRY','AGE','first_trx_done_after_ndays','Fraud']].set_index('ID')\n",
    "testing_data=test_data[['ID','USER_ID','TYPE','STATE','AMOUNT_GBP','CURRENCY','COUNTRY','AGE','first_trx_done_after_ndays','Fraud']].set_index('ID')\n"
   ]
  },
  {
   "cell_type": "code",
   "execution_count": 48,
   "metadata": {},
   "outputs": [],
   "source": [
    "X_train=training_data.drop(['USER_ID','Fraud'],axis=1)\n",
    "y_train=training_data['Fraud']\n",
    "X_test=testing_data.drop(['USER_ID','Fraud'],axis=1)\n",
    "y_test=testing_data['Fraud']"
   ]
  },
  {
   "cell_type": "markdown",
   "metadata": {},
   "source": [
    "### One Hot Encoding\n",
    "<a id='section10'></a>"
   ]
  },
  {
   "cell_type": "code",
   "execution_count": 49,
   "metadata": {},
   "outputs": [],
   "source": [
    "ce_one_hot = ce.OneHotEncoder(cols = ['TYPE','STATE'])\n",
    "ce_one_hot=ce_one_hot.fit(X_train)\n",
    "X_train=ce_one_hot.transform(X_train)"
   ]
  },
  {
   "cell_type": "code",
   "execution_count": 50,
   "metadata": {},
   "outputs": [],
   "source": [
    "X_test=ce_one_hot.transform(X_test)"
   ]
  },
  {
   "cell_type": "markdown",
   "metadata": {},
   "source": [
    "### Frequency Encoding\n",
    "<a id='section11'></a>"
   ]
  },
  {
   "cell_type": "code",
   "execution_count": 51,
   "metadata": {},
   "outputs": [],
   "source": [
    "X_train['CURRENCY_LEVEL'] = round(X_train.groupby('CURRENCY')['CURRENCY'].transform('count')/X_train.shape[0],2)\n",
    "X_train['COUNTRY_LEVEL'] = round(X_train.groupby('COUNTRY')['COUNTRY'].transform('count')/X_train.shape[0],2)\n",
    "currency_encoding=pd.Series(X_train['CURRENCY_LEVEL'].values,index=X_train['CURRENCY']).to_dict()\n",
    "country_encoding=pd.Series(X_train['COUNTRY_LEVEL'].values,index=X_train['COUNTRY']).to_dict()\n",
    "X_train.drop(['CURRENCY','COUNTRY'],axis=1,inplace=True)"
   ]
  },
  {
   "cell_type": "code",
   "execution_count": 52,
   "metadata": {
    "scrolled": true
   },
   "outputs": [],
   "source": [
    "X_test['CURRENCY_LEVEL'] = X_test['CURRENCY'].map(currency_encoding) \n",
    "X_test['COUNTRY_LEVEL'] = X_test['COUNTRY'].map(country_encoding) \n",
    "X_test.fillna(0,inplace=True)\n",
    "X_test[X_test['CURRENCY']== 'BZD']\n",
    "X_test.drop(['CURRENCY','COUNTRY'],axis=1,inplace=True)"
   ]
  },
  {
   "cell_type": "code",
   "execution_count": 53,
   "metadata": {},
   "outputs": [],
   "source": [
    "scaler = StandardScaler()\n",
    "scaler = scaler.fit(X_train)\n",
    "X_train  = pd.DataFrame(data = scaler.transform(X_train), columns = X_train.columns,index = X_train.index)\n",
    "X_test  = pd.DataFrame(data = scaler.transform(X_test), columns = X_test.columns,index = X_test.index)"
   ]
  },
  {
   "cell_type": "markdown",
   "metadata": {},
   "source": [
    "### Applying SMOTE\n",
    "<a id='section12'></a>"
   ]
  },
  {
   "cell_type": "code",
   "execution_count": 54,
   "metadata": {},
   "outputs": [],
   "source": [
    "regularization_strength=[0.01,0.1,1,10]\n",
    "max_depth=[7,9,11,13]\n",
    "n_estimators=[7,9,11,13]\n",
    "weights=np.linspace(0.05,0.25,10)\n",
    "class_weights=[{0: 1, 1: 4},{0: 1, 1:2},{0: 1, 1: 3}]\n",
    "sm = SMOTE(random_state=0,sampling_strategy='minority')\n",
    "lr = LogisticRegression(random_state=0, solver='lbfgs')\n",
    "rf = RandomForestClassifier(random_state=0)"
   ]
  },
  {
   "cell_type": "code",
   "execution_count": 55,
   "metadata": {},
   "outputs": [],
   "source": [
    "lr_pipeline = Pipeline([('SMOTE', sm),('Logistic Regression', lr)])\n",
    "rf_pipeline = Pipeline([('SMOTE', sm),('Random Forest', rf)])"
   ]
  },
  {
   "cell_type": "markdown",
   "metadata": {},
   "source": [
    "### Hyperparameter Tuning for Logistic Regression\n",
    "<a id='section13'></a>"
   ]
  },
  {
   "cell_type": "code",
   "execution_count": 56,
   "metadata": {},
   "outputs": [],
   "source": [
    "lr_gsc=GridSearchCV(\n",
    "    estimator=lr_pipeline,\n",
    "    param_grid={\n",
    "        'SMOTE__ratio':weights,\n",
    "        'Logistic Regression__class_weight':class_weights,\n",
    "        'Logistic Regression__C' : regularization_strength\n",
    "    },\n",
    "scoring='f1',\n",
    "cv=3\n",
    ")"
   ]
  },
  {
   "cell_type": "markdown",
   "metadata": {},
   "source": [
    "### Hyperparameter Tuning for Random Forest\n",
    "<a id='section14'></a>"
   ]
  },
  {
   "cell_type": "code",
   "execution_count": 57,
   "metadata": {},
   "outputs": [],
   "source": [
    "rf_gsc=GridSearchCV(\n",
    "    estimator=rf_pipeline,\n",
    "    param_grid={\n",
    "        'SMOTE__ratio':weights,\n",
    "        'Random Forest__class_weight':class_weights,\n",
    "        'Random Forest__max_depth' : max_depth,\n",
    "        'Random Forest__n_estimators': n_estimators\n",
    "    },\n",
    "scoring='f1',\n",
    "cv=3\n",
    ")"
   ]
  },
  {
   "cell_type": "code",
   "execution_count": 58,
   "metadata": {},
   "outputs": [],
   "source": [
    "lr_result=lr_gsc.fit(X_train,y_train)"
   ]
  },
  {
   "cell_type": "code",
   "execution_count": 59,
   "metadata": {},
   "outputs": [
    {
     "name": "stdout",
     "output_type": "stream",
     "text": [
      "{'Logistic Regression__C': 0.01, 'Logistic Regression__class_weight': {0: 1, 1: 2}, 'SMOTE__ratio': 0.07222222222222223}\n",
      "0.1301581389183705\n"
     ]
    }
   ],
   "source": [
    "print(lr_result.best_params_)\n",
    "print(lr_result.best_score_)"
   ]
  },
  {
   "cell_type": "code",
   "execution_count": 60,
   "metadata": {},
   "outputs": [],
   "source": [
    "rf_result=rf_gsc.fit(X_train,y_train)"
   ]
  },
  {
   "cell_type": "code",
   "execution_count": 61,
   "metadata": {},
   "outputs": [
    {
     "name": "stdout",
     "output_type": "stream",
     "text": [
      "{'Random Forest__class_weight': {0: 1, 1: 2}, 'Random Forest__max_depth': 13, 'Random Forest__n_estimators': 13, 'SMOTE__ratio': 0.05}\n",
      "0.40305785874556466\n"
     ]
    }
   ],
   "source": [
    "print(rf_result.best_params_)\n",
    "print(rf_result.best_score_)"
   ]
  },
  {
   "cell_type": "markdown",
   "metadata": {},
   "source": [
    "### Prediction"
   ]
  },
  {
   "cell_type": "code",
   "execution_count": 62,
   "metadata": {},
   "outputs": [],
   "source": [
    "y_pred_lr=lr_result.predict_proba(X_test)[:, 1]\n",
    "y_pred_rf=rf_result.predict_proba(X_test)[:, 1]"
   ]
  },
  {
   "cell_type": "markdown",
   "metadata": {},
   "source": [
    "### Optimal Threshold Selection\n",
    "<a id='section15'></a>"
   ]
  },
  {
   "cell_type": "code",
   "execution_count": 63,
   "metadata": {},
   "outputs": [],
   "source": [
    "def cutoff(precision,recall,threshold):\n",
    "    threshold_deciderf1=[]\n",
    "    for value in zip(precision,recall):\n",
    "        p=value[0]\n",
    "        r=value[1]\n",
    "        f1=(2*p*r)/(p+r)\n",
    "        threshold_deciderf1.append(f1)\n",
    "    opt_threshold_index=threshold_deciderf1.index(max(threshold_deciderf1)) \n",
    "    opt_thresholdf1=threshold[opt_threshold_index]\n",
    "    return opt_thresholdf1"
   ]
  },
  {
   "cell_type": "code",
   "execution_count": 64,
   "metadata": {},
   "outputs": [
    {
     "name": "stdout",
     "output_type": "stream",
     "text": [
      "Optimal threshold set for Logistic Regression  0.5754152036784177\n"
     ]
    },
    {
     "name": "stderr",
     "output_type": "stream",
     "text": [
      "C:\\Users\\hjuneja\\AppData\\Local\\Continuum\\anaconda3\\lib\\site-packages\\ipykernel_launcher.py:6: RuntimeWarning: invalid value encountered in double_scalars\n",
      "  \n"
     ]
    }
   ],
   "source": [
    "lr_precision, lr_recall, lr_threshold = precision_recall_curve(y_test,y_pred_lr,pos_label=1)\n",
    "lr_opt_threshold = cutoff(lr_precision,lr_recall,lr_threshold)\n",
    "print('Optimal threshold set for Logistic Regression ',lr_opt_threshold)\n",
    "y_pred_lr1 = y_pred_lr > lr_opt_threshold"
   ]
  },
  {
   "cell_type": "code",
   "execution_count": 65,
   "metadata": {},
   "outputs": [
    {
     "name": "stdout",
     "output_type": "stream",
     "text": [
      "Optimal threshold set for Random Forest  0.5695059271595772\n"
     ]
    }
   ],
   "source": [
    "rf_precision, rf_recall, rf_threshold = precision_recall_curve(y_test,y_pred_rf,pos_label=1)\n",
    "rf_opt_threshold = cutoff(rf_precision, rf_recall, rf_threshold)\n",
    "print('Optimal threshold set for Random Forest ',rf_opt_threshold)\n",
    "y_pred_rf1 = y_pred_rf > rf_opt_threshold"
   ]
  },
  {
   "cell_type": "markdown",
   "metadata": {},
   "source": [
    "### Model Performance Evaluation\n",
    "<a id='section16'></a>"
   ]
  },
  {
   "cell_type": "code",
   "execution_count": 66,
   "metadata": {},
   "outputs": [
    {
     "name": "stdout",
     "output_type": "stream",
     "text": [
      "Logistic Regression Metrics : \n",
      "Precision: 0.11058946270213876\n",
      "Recall: 0.15680473372781065\n",
      "F1: 0.1297032731722239\n"
     ]
    }
   ],
   "source": [
    "print(\"Logistic Regression Metrics : \")\n",
    "print(\"Precision:\",precision_score(y_test, y_pred_lr1,pos_label = 1))\n",
    "print(\"Recall:\",recall_score(y_test, y_pred_lr1,pos_label = 1))\n",
    "print(\"F1:\",f1_score(y_test, y_pred_lr1,pos_label = 1))"
   ]
  },
  {
   "cell_type": "code",
   "execution_count": 67,
   "metadata": {},
   "outputs": [
    {
     "name": "stdout",
     "output_type": "stream",
     "text": [
      "Random Forest Metrics : \n",
      "Precision: 0.4334763948497854\n",
      "Recall: 0.3735207100591716\n",
      "F1: 0.4012713547874453\n"
     ]
    }
   ],
   "source": [
    "print(\"Random Forest Metrics : \")\n",
    "print(\"Precision:\",precision_score(y_test, y_pred_rf1,pos_label = 1))\n",
    "print(\"Recall:\",recall_score(y_test, y_pred_rf1,pos_label = 1))\n",
    "print(\"F1:\",f1_score(y_test, y_pred_rf1,pos_label = 1))"
   ]
  },
  {
   "cell_type": "markdown",
   "metadata": {},
   "source": [
    "### Precision-Recall Curve\n",
    "<a id='section17'></a>"
   ]
  },
  {
   "cell_type": "code",
   "execution_count": 68,
   "metadata": {},
   "outputs": [
    {
     "data": {
      "image/png": "[encoded data removed]",
      "text/plain": [
       "<Figure size 432x288 with 1 Axes>"
      ]
     },
     "metadata": {
      "needs_background": "light"
     },
     "output_type": "display_data"
    }
   ],
   "source": [
    "# plot the precision-recall curves\n",
    "no_skill = len([y_test==1]) / len(y_test)\n",
    "plt.plot([0, 1], [no_skill, no_skill], linestyle='--', label='No Skill')\n",
    "plt.plot(lr_recall, lr_precision, marker='.', label='Logistic Regression')\n",
    "# axis labels\n",
    "plt.xlabel('Recall')\n",
    "plt.ylabel('Precision')\n",
    "plt.title(\"Logistic Regression Precision-Recall Curve\")\n",
    "# show the legend\n",
    "plt.legend()\n",
    "# show the plot\n",
    "plt.show()\n",
    "## added class_weights to get this"
   ]
  },
  {
   "cell_type": "code",
   "execution_count": 69,
   "metadata": {},
   "outputs": [
    {
     "data": {
      "image/png": "[encoded data removed]",
      "text/plain": [
       "<Figure size 432x288 with 1 Axes>"
      ]
     },
     "metadata": {
      "needs_background": "light"
     },
     "output_type": "display_data"
    }
   ],
   "source": [
    "# plot the precision-recall curves\n",
    "no_skill = len([y_test==1]) / len(y_test)\n",
    "plt.plot([0, 1], [no_skill, no_skill], linestyle='--', label='No Skill')\n",
    "plt.plot(rf_recall, rf_precision, marker='.', label='Random Forest')\n",
    "# axis labels\n",
    "plt.xlabel('Recall')\n",
    "plt.ylabel('Precision')\n",
    "plt.title(\"Random Forest Precision-Recall Curve\")\n",
    "# show the legend\n",
    "plt.legend()\n",
    "# show the plot\n",
    "plt.show()\n",
    "## added class_weights to get this"
   ]
  },
  {
   "cell_type": "markdown",
   "metadata": {},
   "source": [
    "### Confusion Matrix for Models\n",
    "<a id='section18'></a>"
   ]
  },
  {
   "cell_type": "code",
   "execution_count": 70,
   "metadata": {
    "scrolled": true
   },
   "outputs": [],
   "source": [
    "lr_cm=confusion_matrix(y_test, y_pred_lr1)\n",
    "rf_cm=confusion_matrix(y_test, y_pred_rf1)"
   ]
  },
  {
   "cell_type": "code",
   "execution_count": 71,
   "metadata": {},
   "outputs": [
    {
     "data": {
      "image/png": "[encoded data removed]",
      "text/plain": [
       "<Figure size 432x288 with 1 Axes>"
      ]
     },
     "metadata": {
      "needs_background": "light"
     },
     "output_type": "display_data"
    }
   ],
   "source": [
    "fig, ax = plot_confusion_matrix(conf_mat=lr_cm,show_absolute=True,show_normed=True)\n",
    "ax.set_title('Logistic Regression Confusion Matrix')\n",
    "plt.show()"
   ]
  },
  {
   "cell_type": "code",
   "execution_count": 72,
   "metadata": {},
   "outputs": [
    {
     "data": {
      "image/png": "[encoded data removed]",
      "text/plain": [
       "<Figure size 432x288 with 1 Axes>"
      ]
     },
     "metadata": {
      "needs_background": "light"
     },
     "output_type": "display_data"
    }
   ],
   "source": [
    "fig,ax=plot_confusion_matrix(conf_mat=rf_cm,show_absolute=True,show_normed=True)\n",
    "ax.set_title('Random Forest Confusion Matrix')\n",
    "plt.show()"
   ]
  },
  {
   "cell_type": "markdown",
   "metadata": {},
   "source": [
    "### Saving the model\n",
    "<a id='section19'></a>"
   ]
  },
  {
   "cell_type": "code",
   "execution_count": 73,
   "metadata": {},
   "outputs": [],
   "source": [
    "model_parameters = {}\n",
    "model_parameters['Scaling'] = scaler\n",
    "model_parameters['Onehot Encoding'] = ce_one_hot\n",
    "model_parameters['Currency Encoding'] = currency_encoding\n",
    "model_parameters['Country Encoding'] = country_encoding\n",
    "model_parameters['clf'] = rf_gsc\n",
    "model_parameters['opt_threshold'] = rf_opt_threshold"
   ]
  },
  {
   "cell_type": "code",
   "execution_count": 74,
   "metadata": {},
   "outputs": [],
   "source": [
    "with open(\"artifacts/model_parameters.pickle\",\"wb\") as file:\n",
    "    pickle.dump(model_parameters, file)"
   ]
  },
  {
   "cell_type": "markdown",
   "metadata": {},
   "source": [
    "### Unexplored Thoughts\n",
    "<a id='section20'></a>"
   ]
  },
  {
   "cell_type": "markdown",
   "metadata": {},
   "source": [
    "#### For Features\n",
    "1. How rarely or frequently i.e. the time gap between two transactions (Can be computed from feature trx_done_after_ndays)\n",
    "2. Sum of TOPUP's Amount is equal to Sum of Transfers Amount for Fraud cases\n",
    "3. If previous TOPUP Failed, does the amount of next TOPUP same?\n",
    "4. If previous TOPUP Failed, does a new account linked for next transaction?\n",
    "5. User does his transactions in how many different currencies?"
   ]
  },
  {
   "cell_type": "markdown",
   "metadata": {},
   "source": [
    "#### For Optimal Threshold\n",
    "In cases like fraud detection, where marking a Fraud person as non-fraud is critical (FN). Recall should be more for such cases than Precision. \n",
    "So based on this, we can select a optimal threshold that makes the balance between how many alerts can be processed manually corresponding to a high Recall.\n",
    "Secondly, techniques like Cost Curves can also be used"
   ]
  }
 ],
 "metadata": {
  "kernelspec": {
   "display_name": "Python 3",
   "language": "python",
   "name": "python3"
  },
  "language_info": {
   "codemirror_mode": {
    "name": "ipython",
    "version": 3
   },
   "file_extension": ".py",
   "mimetype": "text/x-python",
   "name": "python",
   "nbconvert_exporter": "python",
   "pygments_lexer": "ipython3",
   "version": "3.6.9"
  }
 },
 "nbformat": 4,
 "nbformat_minor": 2
}
